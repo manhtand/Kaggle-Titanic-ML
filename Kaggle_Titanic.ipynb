{
 "cells": [
  {
   "cell_type": "code",
   "execution_count": 456,
   "id": "1e791c05",
   "metadata": {},
   "outputs": [],
   "source": [
    "# import dataset\n",
    "\n",
    "import pandas as pd\n",
    "from sklearn.tree import DecisionTreeClassifier\n",
    "from sklearn.model_selection import train_test_split\n",
    "\n",
    "train_data = pd.read_csv('data/train.csv')\n",
    "test_data = pd.read_csv('data/test.csv')\n",
    "\n",
    "data = pd.concat([train_data, test_data], ignore_index = True, sort = False)"
   ]
  },
  {
   "cell_type": "code",
   "execution_count": 457,
   "id": "4a71e29c",
   "metadata": {},
   "outputs": [
    {
     "data": {
      "text/plain": [
       "PassengerId       0\n",
       "Survived        418\n",
       "Pclass            0\n",
       "Name              0\n",
       "Sex               0\n",
       "Age             263\n",
       "SibSp             0\n",
       "Parch             0\n",
       "Ticket            0\n",
       "Fare              1\n",
       "Cabin          1014\n",
       "Embarked          2\n",
       "dtype: int64"
      ]
     },
     "execution_count": 457,
     "metadata": {},
     "output_type": "execute_result"
    }
   ],
   "source": [
    "# check missing values\n",
    "\n",
    "data.isnull().sum()"
   ]
  },
  {
   "cell_type": "code",
   "execution_count": 458,
   "id": "21126cd4",
   "metadata": {},
   "outputs": [],
   "source": [
    "# data imputation\n",
    "\n",
    "# Embarked\n",
    "data.Embarked.fillna(data.Embarked.mode()[0], inplace = True)\n",
    "train_data.Embarked.fillna(data.Embarked.mode()[0], inplace = True)\n",
    "\n",
    "# Cabin\n",
    "data.Cabin = data.Cabin.fillna('NA')\n",
    "train_data.Cabin = data.Cabin.fillna('NA')\n",
    "\n",
    "# Age\n",
    "import numpy as np\n",
    "from sklearn.impute import SimpleImputer\n",
    "\n",
    "imp = SimpleImputer(missing_values = np.nan, strategy = 'mean')\n",
    "data['Age'] = imp.fit_transform(data[['Age']])\n",
    "train_data['Age'] = imp.fit_transform(train_data[['Age']])\n",
    "test_data['Age'] = imp.fit_transform(test_data[['Age']])\n",
    "\n",
    "# Fare\n",
    "test_data['Fare'] = imp.fit_transform(test_data[['Fare']])"
   ]
  },
  {
   "cell_type": "code",
   "execution_count": 459,
   "id": "aabced9e",
   "metadata": {},
   "outputs": [
    {
     "data": {
      "text/plain": [
       "PassengerId    1309\n",
       "Survived          2\n",
       "Pclass            3\n",
       "Name           1307\n",
       "Sex               2\n",
       "Age              99\n",
       "SibSp             7\n",
       "Parch             8\n",
       "Ticket          929\n",
       "Fare            281\n",
       "Cabin           187\n",
       "Embarked          3\n",
       "dtype: int64"
      ]
     },
     "execution_count": 459,
     "metadata": {},
     "output_type": "execute_result"
    }
   ],
   "source": [
    "# check number of unique values each column\n",
    "\n",
    "data.nunique()"
   ]
  },
  {
   "cell_type": "code",
   "execution_count": 460,
   "id": "27e42dd5",
   "metadata": {},
   "outputs": [
    {
     "name": "stdout",
     "output_type": "stream",
     "text": [
      "Count of survived Passengers:  342\n",
      "Count of unsurvived Passengers:  549\n"
     ]
    }
   ],
   "source": [
    "# check number of survived and unsurvived passengers\n",
    "\n",
    "print(\"Count of survived Passengers: \", data['Survived'][data['Survived'] == 1].count())\n",
    "print(\"Count of unsurvived Passengers: \", data['Survived'][data['Survived'] == 0].count())"
   ]
  },
  {
   "cell_type": "code",
   "execution_count": 461,
   "id": "d254ff26",
   "metadata": {},
   "outputs": [
    {
     "name": "stdout",
     "output_type": "stream",
     "text": [
      "Class 1:\n",
      "Percentage Survived:  0.42105263157894735\n",
      "Percentage Unsurvived:  0.2476780185758514\n",
      "\n",
      "Class 2:\n",
      "Percentage Survived:  0.3140794223826715\n",
      "Percentage Unsurvived:  0.35018050541516244\n",
      "\n",
      "Class 3:\n",
      "Percentage Survived:  0.16784203102961917\n",
      "Percentage Unsurvived:  0.5246826516220028\n"
     ]
    }
   ],
   "source": [
    "#check percentage of survived Passenger of each Pclass\n",
    "\n",
    "print(\"Class 1:\")\n",
    "print(\"Percentage Survived: \", data['Survived'][(data['Survived'] == 1) & (data['Pclass'] == 1)].count() / data['Pclass'][data['Pclass'] == 1].count())\n",
    "print(\"Percentage Unsurvived: \", data['Survived'][(data['Survived'] == 0) & (data['Pclass'] == 1)].count() / data['Pclass'][data['Pclass'] == 1].count())\n",
    "\n",
    "print(\"\\nClass 2:\")\n",
    "print(\"Percentage Survived: \", data['Survived'][(data['Survived'] == 1) & (data['Pclass'] == 2)].count() / data['Pclass'][data['Pclass'] == 2].count())\n",
    "print(\"Percentage Unsurvived: \", data['Survived'][(data['Survived'] == 0) & (data['Pclass'] == 2)].count() / data['Pclass'][data['Pclass'] == 2].count())\n",
    "\n",
    "print(\"\\nClass 3:\")\n",
    "print(\"Percentage Survived: \", data['Survived'][(data['Survived'] == 1) & (data['Pclass'] == 3)].count() / data['Pclass'][data['Pclass'] == 3].count())\n",
    "print(\"Percentage Unsurvived: \", data['Survived'][(data['Survived'] == 0) & (data['Pclass'] == 3)].count() / data['Pclass'][data['Pclass'] == 3].count())"
   ]
  },
  {
   "cell_type": "code",
   "execution_count": 462,
   "id": "d187ed13",
   "metadata": {},
   "outputs": [
    {
     "name": "stdout",
     "output_type": "stream",
     "text": [
      "Male:\n",
      "Percentage Survived:  0.12930011862396204\n",
      "Percentage Unsurvived:  0.5551601423487544\n",
      "\n",
      "Female:\n",
      "Percentage Survived:  0.5\n",
      "Percentage Unsurvived:  0.17381974248927037\n"
     ]
    }
   ],
   "source": [
    "# check percentage of survived Passenger of gender\n",
    "\n",
    "print(\"Male:\")\n",
    "print(\"Percentage Survived: \", data['Survived'][(data['Survived'] == 1) & (data['Sex'] == 'male')].count() / data['Sex'][data['Sex'] == 'male'].count())\n",
    "print(\"Percentage Unsurvived: \", data['Survived'][(data['Survived'] == 0) & (data['Sex'] == 'male')].count() / data['Sex'][data['Sex'] == 'male'].count())\n",
    "\n",
    "print(\"\\nFemale:\")\n",
    "print(\"Percentage Survived: \", data['Survived'][(data['Survived'] == 1) & (data['Sex'] == 'female')].count() / data['Sex'][data['Sex'] == 'female'].count())\n",
    "print(\"Percentage Unsurvived: \", data['Survived'][(data['Survived'] == 0) & (data['Sex'] == 'female')].count() / data['Sex'][data['Sex'] == 'female'].count())"
   ]
  },
  {
   "cell_type": "code",
   "execution_count": 463,
   "id": "9a77fb7f",
   "metadata": {},
   "outputs": [
    {
     "name": "stdout",
     "output_type": "stream",
     "text": [
      "(0, 10]:\n",
      "Percentage Survived:  0.4418604651162791\n",
      "Percentage Survived:  0.3023255813953488\n",
      "\n",
      "( 10 ,  20 ]:\n",
      "Percentage Survived:  0.2949640287769784\n",
      "Percentage Survived:  0.4244604316546763\n",
      "\n",
      "( 20 ,  30 ]:\n",
      "Percentage Survived:  0.21575342465753425\n",
      "Percentage Survived:  0.4383561643835616\n",
      "\n",
      "( 30 ,  40 ]:\n",
      "Percentage Survived:  0.328125\n",
      "Percentage Survived:  0.4114583333333333\n",
      "\n",
      "( 40 ,  50 ]:\n",
      "Percentage Survived:  0.23931623931623933\n",
      "Percentage Survived:  0.41025641025641024\n",
      "\n",
      "( 50 ,  60 ]:\n",
      "Percentage Survived:  0.2727272727272727\n",
      "Percentage Survived:  0.41818181818181815\n",
      "\n",
      "( 60 ,  70 ]:\n",
      "Percentage Survived:  0.16\n",
      "Percentage Survived:  0.44\n",
      "\n",
      "( 70 ,  80 ]:\n",
      "Percentage Survived:  0.0\n",
      "Percentage Survived:  0.8\n"
     ]
    }
   ],
   "source": [
    "# check percentage of survived Passenger of age\n",
    "\n",
    "print (\"(0, 10]:\")\n",
    "print(\"Percentage Survived: \", data['Survived'][(data['Survived'] == 1) & (data['Age'] <= 10)].count() / data['Age'][data['Age'] <= 10].count())\n",
    "print(\"Percentage Survived: \", data['Survived'][(data['Survived'] == 0) & (data['Age'] <= 10)].count() / data['Age'][data['Age'] <= 10].count())\n",
    "\n",
    "for x in range(7):\n",
    "    age = 10 + 10 * x\n",
    "    print(\"\\n(\", age, \", \", 10 + age, \"]:\")\n",
    "    print(\"Percentage Survived: \", data['Survived'][(data['Survived'] == 1) & (data['Age'] > age) & (data['Age'] < 10 + age)].count() / data['Age'][(data['Age'] > age) & (data['Age'] < 10 + age)].count())\n",
    "    print(\"Percentage Survived: \", data['Survived'][(data['Survived'] == 0) & (data['Age'] > age) & (data['Age'] < 10 + age)].count() / data['Age'][(data['Age'] > age) & (data['Age'] < 10 + age)].count())"
   ]
  },
  {
   "cell_type": "code",
   "execution_count": 464,
   "id": "ed1a84ab",
   "metadata": {},
   "outputs": [
    {
     "name": "stdout",
     "output_type": "stream",
     "text": [
      "(0, 1]:\n",
      "Percentage Survived:  0.20632911392405062\n",
      "Percentage Unsurvived:  0.47341772151898737\n",
      "\n",
      "( 0 ,  1 ]:\n",
      "Percentage Survived:  0.20632911392405062\n",
      "Percentage Unsurvived:  0.47341772151898737\n",
      "\n",
      "( 1 ,  2 ]:\n",
      "Percentage Survived:  0.37872340425531914\n",
      "Percentage Unsurvived:  0.30638297872340425\n",
      "\n",
      "( 2 ,  3 ]:\n",
      "Percentage Survived:  0.3710691823899371\n",
      "Percentage Unsurvived:  0.27044025157232704\n",
      "\n",
      "( 3 ,  4 ]:\n",
      "Percentage Survived:  0.4883720930232558\n",
      "Percentage Unsurvived:  0.18604651162790697\n",
      "\n",
      "( 4 ,  5 ]:\n",
      "Percentage Survived:  0.13636363636363635\n",
      "Percentage Unsurvived:  0.5454545454545454\n",
      "\n",
      "( 5 ,  6 ]:\n",
      "Percentage Survived:  0.12\n",
      "Percentage Unsurvived:  0.76\n",
      "\n",
      "( 6 ,  7 ]:\n",
      "Percentage Survived:  0.25\n",
      "Percentage Unsurvived:  0.5\n",
      "\n",
      "( 7 ,  8 ]:\n",
      "Percentage Survived:  0.0\n",
      "Percentage Unsurvived:  0.75\n",
      "\n",
      "( 8 ,  9 ]:\n",
      "Percentage Survived:  nan\n",
      "Percentage Unsurvived:  nan\n",
      "\n",
      "( 9 ,  10 ]:\n",
      "Percentage Survived:  nan\n",
      "Percentage Unsurvived:  nan\n"
     ]
    },
    {
     "name": "stderr",
     "output_type": "stream",
     "text": [
      "C:\\Users\\manht\\AppData\\Local\\Temp\\ipykernel_15328\\1504834398.py:18: RuntimeWarning: invalid value encountered in scalar divide\n",
      "  print(\"Percentage Survived: \", data['Survived'][(data['Survived'] == 1) & (data['Family'] == x)].count() / data['Family'][data['Family'] == x].count())\n",
      "C:\\Users\\manht\\AppData\\Local\\Temp\\ipykernel_15328\\1504834398.py:19: RuntimeWarning: invalid value encountered in scalar divide\n",
      "  print(\"Percentage Unsurvived: \", data['Survived'][(data['Survived'] == 0) & (data['Family'] == x)].count() / data['Family'][data['Family'] == x].count())\n"
     ]
    }
   ],
   "source": [
    "# check percentage of survived Passeger of the total number of family members\n",
    "\n",
    "data['Family'] = data.Parch + data.SibSp\n",
    "data['Is_Alone'] = data.Family == 0\n",
    "\n",
    "train_data['Family'] = train_data.Parch + train_data.SibSp\n",
    "train_data['Is_Alone'] = train_data.Family == 0\n",
    "\n",
    "test_data['Family'] = test_data.Parch + test_data.SibSp\n",
    "test_data['Is_Alone'] = test_data.Family == 0\n",
    "\n",
    "print (\"(0, 1]:\")\n",
    "print(\"Percentage Survived: \", data['Survived'][(data['Survived'] == 1) & (data['Is_Alone'] == 1)].count() / data['Is_Alone'][data['Is_Alone'] == 1].count())\n",
    "print(\"Percentage Unsurvived: \", data['Survived'][(data['Survived'] == 0) & (data['Is_Alone'] == 1)].count() / data['Is_Alone'][data['Is_Alone'] == 1].count())\n",
    "\n",
    "for x in range(data['Family'].max()):\n",
    "    print(\"\\n(\", x, \", \", 1 + x, \"]:\")\n",
    "    print(\"Percentage Survived: \", data['Survived'][(data['Survived'] == 1) & (data['Family'] == x)].count() / data['Family'][data['Family'] == x].count())\n",
    "    print(\"Percentage Unsurvived: \", data['Survived'][(data['Survived'] == 0) & (data['Family'] == x)].count() / data['Family'][data['Family'] == x].count())"
   ]
  },
  {
   "cell_type": "code",
   "execution_count": 465,
   "id": "f2c12672",
   "metadata": {},
   "outputs": [
    {
     "name": "stdout",
     "output_type": "stream",
     "text": [
      "Count of Passengers with Fare_Category Low:  1241\n",
      "Count of Passengers with Fare_Category Mid:  50\n",
      "Count of Passengers with Fare_Category High_Mid:  13\n",
      "Count of Passengers with Fare_Category High:  4\n",
      "\n",
      "Low:\n",
      "Percentage Survived:  0.25302175664786464\n",
      "Percentage Unsurvived:  0.43432715551974216\n",
      "\n",
      "Mid:\n",
      "Percentage Survived:  0.42\n",
      "Percentage Unsurvived:  0.16\n",
      "\n",
      "High_Mid:\n",
      "Percentage Survived:  0.3076923076923077\n",
      "Percentage Unsurvived:  0.15384615384615385\n",
      "\n",
      "High:\n",
      "Percentage Survived:  0.75\n",
      "Percentage Unsurvived:  0.0\n"
     ]
    },
    {
     "data": {
      "text/plain": [
       "PassengerId      0\n",
       "Survived         0\n",
       "Pclass           0\n",
       "Name             0\n",
       "Sex              0\n",
       "Age              0\n",
       "SibSp            0\n",
       "Parch            0\n",
       "Ticket           0\n",
       "Fare             0\n",
       "Cabin            0\n",
       "Embarked         0\n",
       "Family           0\n",
       "Is_Alone         0\n",
       "Fare_Category    0\n",
       "dtype: int64"
      ]
     },
     "execution_count": 465,
     "metadata": {},
     "output_type": "execute_result"
    }
   ],
   "source": [
    "# split the fare amount into categories\n",
    "\n",
    "maxFare = data['Fare'].max()\n",
    "minFare = data['Fare'].min()\n",
    "data['Fare_Category'] = pd.cut(data['Fare'], bins = [minFare, 3 * minFare / 4 + maxFare / 4, (maxFare + minFare) / 2, minFare / 4 + 3 * maxFare / 4, maxFare], labels = ['Low', 'Mid', 'High_Mid', 'High'])\n",
    "data['Fare_Category'][data['Fare'] == minFare] = 'Low'\n",
    "data['Fare_Category'][data['Fare'] == 3 * minFare / 4 + maxFare / 4] = 'Mid'\n",
    "data['Fare_Category'][data['Fare'] == (maxFare + minFare) / 2] = 'High_Mid'\n",
    "data['Fare_Category'][data['Fare'] == minFare / 4 + 3 * maxFare / 4] = 'High'\n",
    "data['Fare_Category'][data['Fare'] == maxFare] = 'High'\n",
    "\n",
    "train_data['Fare_Category'] = pd.cut(train_data['Fare'], bins = [minFare, 3 * minFare / 4 + maxFare / 4, (maxFare + minFare) / 2, minFare / 4 + 3 * maxFare / 4, maxFare], labels = ['Low', 'Mid', 'High_Mid', 'High'])\n",
    "train_data['Fare_Category'][train_data['Fare'] == minFare] = 'Low'\n",
    "train_data['Fare_Category'][train_data['Fare'] == 3 * minFare / 4 + maxFare / 4] = 'Mid'\n",
    "train_data['Fare_Category'][train_data['Fare'] == (maxFare + minFare) / 2] = 'High_Mid'\n",
    "train_data['Fare_Category'][train_data['Fare'] == minFare / 4 + 3 * maxFare / 4] = 'High'\n",
    "train_data['Fare_Category'][train_data['Fare'] == maxFare] = 'High'\n",
    "\n",
    "test_data['Fare_Category'] = pd.cut(test_data['Fare'], bins = [minFare, 3 * minFare / 4 + maxFare / 4, (maxFare + minFare) / 2, minFare / 4 + 3 * maxFare / 4, maxFare], labels = ['Low', 'Mid', 'High_Mid', 'High'])\n",
    "test_data['Fare_Category'][test_data['Fare'] == minFare] = 'Low'\n",
    "test_data['Fare_Category'][test_data['Fare'] == 3 * minFare / 4 + maxFare / 4] = 'Mid'\n",
    "test_data['Fare_Category'][test_data['Fare'] == (maxFare + minFare) / 2] = 'High_Mid'\n",
    "test_data['Fare_Category'][test_data['Fare'] == minFare / 4 + 3 * maxFare / 4] = 'High'\n",
    "test_data['Fare_Category'][test_data['Fare'] == maxFare] = 'High'\n",
    "\n",
    "print(\"Count of Passengers with Fare_Category Low: \", data['Fare_Category'][data['Fare_Category'] == 'Low'].count())\n",
    "print(\"Count of Passengers with Fare_Category Mid: \", data['Fare_Category'][data['Fare_Category'] == 'Mid'].count())\n",
    "print(\"Count of Passengers with Fare_Category High_Mid: \", data['Fare_Category'][data['Fare_Category'] == 'High_Mid'].count())\n",
    "print(\"Count of Passengers with Fare_Category High: \", data['Fare_Category'][data['Fare_Category'] == 'High'].count())\n",
    "\n",
    "# check percentage of survived Passeger of the fare\n",
    "\n",
    "print(\"\\nLow:\")\n",
    "print(\"Percentage Survived: \", data['Survived'][(data['Survived'] == 1) & (data['Fare_Category'] == 'Low')].count() / data['Fare_Category'][data['Fare_Category'] == 'Low'].count())\n",
    "print(\"Percentage Unsurvived: \", data['Survived'][(data['Survived'] == 0) & (data['Fare_Category'] == 'Low')].count() / data['Fare_Category'][data['Fare_Category'] == 'Low'].count())\n",
    "\n",
    "print(\"\\nMid:\")\n",
    "print(\"Percentage Survived: \", data['Survived'][(data['Survived'] == 1) & (data['Fare_Category'] == 'Mid')].count() / data['Fare_Category'][data['Fare_Category'] == 'Mid'].count())\n",
    "print(\"Percentage Unsurvived: \", data['Survived'][(data['Survived'] == 0) & (data['Fare_Category'] == 'Mid')].count() / data['Fare_Category'][data['Fare_Category'] == 'Mid'].count())\n",
    "\n",
    "print(\"\\nHigh_Mid:\")\n",
    "print(\"Percentage Survived: \", data['Survived'][(data['Survived'] == 1) & (data['Fare_Category'] == 'High_Mid')].count() / data['Fare_Category'][data['Fare_Category'] == 'High_Mid'].count())\n",
    "print(\"Percentage Unsurvived: \", data['Survived'][(data['Survived'] == 0) & (data['Fare_Category'] == 'High_Mid')].count() / data['Fare_Category'][data['Fare_Category'] == 'High_Mid'].count())\n",
    "\n",
    "print(\"\\nHigh:\")\n",
    "print(\"Percentage Survived: \", data['Survived'][(data['Survived'] == 1) & (data['Fare_Category'] == 'High')].count() / data['Fare_Category'][data['Fare_Category'] == 'High'].count())\n",
    "print(\"Percentage Unsurvived: \", data['Survived'][(data['Survived'] == 0) & (data['Fare_Category'] == 'High')].count() / data['Fare_Category'][data['Fare_Category'] == 'High'].count())\n",
    "\n",
    "train_data.isnull().sum()"
   ]
  },
  {
   "cell_type": "code",
   "execution_count": 466,
   "id": "f122998c",
   "metadata": {},
   "outputs": [
    {
     "name": "stdout",
     "output_type": "stream",
     "text": [
      "Southampton (S):\n",
      "Percentage Survived:  0.2390829694323144\n",
      "Percentage Unsurvived:  0.4661572052401747\n",
      "\n",
      "Cherbourg (C):\n",
      "Percentage Survived:  0.34444444444444444\n",
      "Percentage Unsurvived:  0.2777777777777778\n",
      "\n",
      "Queenstown (Q):\n",
      "Percentage Survived:  0.24390243902439024\n",
      "Percentage Unsurvived:  0.3821138211382114\n"
     ]
    }
   ],
   "source": [
    "# check percentage of survived Passeger of the embarked\n",
    "\n",
    "print(\"Southampton (S):\")\n",
    "print(\"Percentage Survived: \", data['Survived'][(data['Survived'] == 1) & (data['Embarked'] == 'S')].count() / data['Embarked'][data['Embarked'] == 'S'].count())\n",
    "print(\"Percentage Unsurvived: \", data['Survived'][(data['Survived'] == 0) & (data['Embarked'] == 'S')].count() / data['Embarked'][data['Embarked'] == 'S'].count())\n",
    "\n",
    "print(\"\\nCherbourg (C):\")\n",
    "print(\"Percentage Survived: \", data['Survived'][(data['Survived'] == 1) & (data['Embarked'] == 'C')].count() / data['Embarked'][data['Embarked'] == 'C'].count())\n",
    "print(\"Percentage Unsurvived: \", data['Survived'][(data['Survived'] == 0) & (data['Embarked'] == 'C')].count() / data['Embarked'][data['Embarked'] == 'C'].count())\n",
    "\n",
    "print(\"\\nQueenstown (Q):\")\n",
    "print(\"Percentage Survived: \", data['Survived'][(data['Survived'] == 1) & (data['Embarked'] == 'Q')].count() / data['Embarked'][data['Embarked'] == 'Q'].count())\n",
    "print(\"Percentage Unsurvived: \", data['Survived'][(data['Survived'] == 0) & (data['Embarked'] == 'Q')].count() / data['Embarked'][data['Embarked'] == 'Q'].count())"
   ]
  },
  {
   "cell_type": "code",
   "execution_count": 467,
   "id": "2edcfba4",
   "metadata": {},
   "outputs": [
    {
     "data": {
      "text/plain": [
       "PassengerId        0\n",
       "Pclass             0\n",
       "Name               0\n",
       "Sex                0\n",
       "Age                0\n",
       "SibSp              0\n",
       "Parch              0\n",
       "Ticket             0\n",
       "Fare               0\n",
       "Cabin            327\n",
       "Embarked           0\n",
       "Family             0\n",
       "Is_Alone           0\n",
       "Fare_Category      0\n",
       "dtype: int64"
      ]
     },
     "execution_count": 467,
     "metadata": {},
     "output_type": "execute_result"
    }
   ],
   "source": [
    "# convert into binary feature\n",
    "\n",
    "sex = {'female' : 0, 'male' : 1}\n",
    "embarked = {'C' : 0, 'Q' : 1, 'S' : 2}\n",
    "fare_category = {'Low' : 0, 'Mid' : 1, 'High_Mid' : 2, 'High' : 3}\n",
    "\n",
    "data = data[data['Sex'].notnull()].copy()\n",
    "data['Sex'] = data['Sex'].map(sex)\n",
    "data['Embarked'] = data['Embarked'].map(embarked)\n",
    "data['Fare_Category'] = data['Fare_Category'].map(fare_category)\n",
    "\n",
    "train_data = train_data[train_data['Sex'].notnull()].copy()\n",
    "train_data['Sex'] = train_data['Sex'].map(sex)\n",
    "train_data['Embarked'] = train_data['Embarked'].map(embarked)\n",
    "train_data['Fare_Category'] = train_data['Fare_Category'].map(fare_category)\n",
    "\n",
    "test_data = test_data[test_data['Sex'].notnull()].copy()\n",
    "test_data['Sex'] = test_data['Sex'].map(sex)\n",
    "test_data['Embarked'] = test_data['Embarked'].map(embarked)\n",
    "test_data['Fare_Category'] = test_data['Fare_Category'].map(fare_category)\n",
    "\n",
    "test_data.isnull().sum()"
   ]
  },
  {
   "cell_type": "code",
   "execution_count": 468,
   "id": "b7e94650",
   "metadata": {},
   "outputs": [
    {
     "data": {
      "text/plain": [
       "Pclass           0\n",
       "Sex              0\n",
       "Age              0\n",
       "Embarked         0\n",
       "Family           0\n",
       "Is_Alone         0\n",
       "Fare_Category    0\n",
       "dtype: int64"
      ]
     },
     "execution_count": 468,
     "metadata": {},
     "output_type": "execute_result"
    }
   ],
   "source": [
    "# split the data\n",
    "\n",
    "y = train_data['Survived']\n",
    "\n",
    "features = ['Pclass', 'Sex', 'Age', 'Embarked', 'Family', 'Is_Alone', 'Fare_Category']\n",
    "X = train_data[features]\n",
    "X_test = test_data[features]\n",
    "\n",
    "X.isnull().sum()"
   ]
  },
  {
   "cell_type": "code",
   "execution_count": 469,
   "id": "7b73c326",
   "metadata": {},
   "outputs": [
    {
     "data": {
      "text/plain": [
       "Pclass           0\n",
       "Sex              0\n",
       "Age              0\n",
       "Embarked         0\n",
       "Family           0\n",
       "Is_Alone         0\n",
       "Fare_Category    0\n",
       "dtype: int64"
      ]
     },
     "execution_count": 469,
     "metadata": {},
     "output_type": "execute_result"
    }
   ],
   "source": [
    "# train the decision tree model\n",
    "\n",
    "model = DecisionTreeClassifier()\n",
    "model.fit(X, y)\n",
    "\n",
    "X_test.isnull().sum()"
   ]
  },
  {
   "cell_type": "code",
   "execution_count": 470,
   "id": "89035d37",
   "metadata": {},
   "outputs": [],
   "source": [
    "# predict\n",
    "\n",
    "predictions = model.predict(X_test)"
   ]
  },
  {
   "cell_type": "code",
   "execution_count": 471,
   "id": "121d8e60",
   "metadata": {},
   "outputs": [],
   "source": [
    "# output\n",
    "\n",
    "output = pd.DataFrame({'PassengerId' : test_data.PassengerId, 'Survived' : predictions})\n",
    "output.to_csv('data/submission.csv', index = False)"
   ]
  },
  {
   "cell_type": "code",
   "execution_count": null,
   "id": "a2e0f622",
   "metadata": {},
   "outputs": [],
   "source": []
  }
 ],
 "metadata": {
  "kernelspec": {
   "display_name": "Python 3 (ipykernel)",
   "language": "python",
   "name": "python3"
  },
  "language_info": {
   "codemirror_mode": {
    "name": "ipython",
    "version": 3
   },
   "file_extension": ".py",
   "mimetype": "text/x-python",
   "name": "python",
   "nbconvert_exporter": "python",
   "pygments_lexer": "ipython3",
   "version": "3.11.3"
  }
 },
 "nbformat": 4,
 "nbformat_minor": 5
}
